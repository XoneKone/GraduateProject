{
 "cells": [
  {
   "cell_type": "code",
   "execution_count": 64,
   "outputs": [
    {
     "name": "stderr",
     "output_type": "stream",
     "text": [
      "[nltk_data] Downloading package gutenberg to\n",
      "[nltk_data]     C:\\Users\\Костя\\AppData\\Roaming\\nltk_data...\n",
      "[nltk_data]   Package gutenberg is already up-to-date!\n",
      "[nltk_data] Downloading package punkt to\n",
      "[nltk_data]     C:\\Users\\Костя\\AppData\\Roaming\\nltk_data...\n",
      "[nltk_data]   Package punkt is already up-to-date!\n",
      "[nltk_data] Downloading package stopwords to\n",
      "[nltk_data]     C:\\Users\\Костя\\AppData\\Roaming\\nltk_data...\n",
      "[nltk_data]   Package stopwords is already up-to-date!\n",
      "UsageError: Line magic function `%` not found.\n"
     ]
    }
   ],
   "source": [
    "from pathlib import Path\n",
    "import nltk\n",
    "from nltk import word_tokenize, sent_tokenize\n",
    "from nltk.corpus import stopwords\n",
    "from nltk.stem.porter import *\n",
    "from tqdm.auto import tqdm, trange\n",
    "\n",
    "nltk.download('gutenberg')\n",
    "nltk.download('punkt')\n",
    "nltk.download('stopwords')\n",
    "\n",
    "import string\n",
    "\n",
    "import gensim\n",
    "from gensim.models.phrases import Phraser, Phrases\n",
    "from gensim.models.word2vec import Word2Vec\n",
    "\n",
    "from sklearn.manifold import TSNE\n",
    "\n",
    "import pandas as pd\n",
    "from bokeh.io import output_notebook, output_file\n",
    "from bokeh.plotting import show, figure\n",
    "% matplotlib inline"
   ],
   "metadata": {
    "collapsed": false,
    "pycharm": {
     "name": "#%%\n"
    }
   }
  },
  {
   "cell_type": "code",
   "execution_count": 48,
   "outputs": [],
   "source": [
    "path_to_books = Path('D:/Dev/GraduateProject/raw_books/')\n",
    "stpwrds = stopwords.words('russian') + list(string.punctuation)\n"
   ],
   "metadata": {
    "collapsed": false,
    "pycharm": {
     "name": "#%%\n"
    }
   }
  },
  {
   "cell_type": "code",
   "execution_count": 49,
   "outputs": [],
   "source": [
    "books = []\n",
    "for x in path_to_books.rglob('*.txt'):\n",
    "    with open(x, 'r', encoding='utf-8') as r:\n",
    "        data = str(r.read())\n",
    "\n",
    "    books.append(data.replace('\\xa0', '').replace('\\t', ''))\n"
   ],
   "metadata": {
    "collapsed": false,
    "pycharm": {
     "name": "#%%\n"
    }
   }
  },
  {
   "cell_type": "code",
   "execution_count": 50,
   "outputs": [],
   "source": [
    "tk_books = []\n",
    "for book in books:\n",
    "    tk_books.append(sent_tokenize(book))"
   ],
   "metadata": {
    "collapsed": false,
    "pycharm": {
     "name": "#%%\n"
    }
   }
  },
  {
   "cell_type": "code",
   "execution_count": 63,
   "outputs": [
    {
     "data": {
      "text/plain": "25762"
     },
     "execution_count": 63,
     "metadata": {},
     "output_type": "execute_result"
    }
   ],
   "source": [
    "len(tk_books[2])"
   ],
   "metadata": {
    "collapsed": false,
    "pycharm": {
     "name": "#%%\n"
    }
   }
  },
  {
   "cell_type": "code",
   "execution_count": 53,
   "outputs": [],
   "source": [
    "data = {'author': [], 'name': [], 'text': []}\n",
    "for book in tk_books:\n",
    "    data['author'].append(book[0])\n",
    "    data['name'].append(book[1])\n",
    "    data['text'].append(book[2:])\n",
    "df = pd.DataFrame(data)"
   ],
   "metadata": {
    "collapsed": false,
    "pycharm": {
     "name": "#%%\n"
    }
   }
  },
  {
   "cell_type": "code",
   "execution_count": 57,
   "outputs": [],
   "source": [
    "df.to_csv('dataset.csv')"
   ],
   "metadata": {
    "collapsed": false,
    "pycharm": {
     "name": "#%%\n"
    }
   }
  },
  {
   "cell_type": "code",
   "execution_count": 56,
   "outputs": [],
   "source": [
    "df['tag'] = [0, 1, 2]\n",
    "# 0 - фантастика\n",
    "# 1 - детектив\n",
    "# 2 - фэнтези"
   ],
   "metadata": {
    "collapsed": false,
    "pycharm": {
     "name": "#%%\n"
    }
   }
  },
  {
   "cell_type": "code",
   "execution_count": 78,
   "outputs": [
    {
     "data": {
      "text/plain": "0    [Глава 1., Дом стоял на склоне холма на окpаин...\n1    [1\\nБыла половина октября, около одиннадцати у...\n2    [ПРОЛОГ\\n\\n1., О ХОББИТАХ., Рассказ у нас пойд...\nName: text, dtype: object"
     },
     "execution_count": 78,
     "metadata": {},
     "output_type": "execute_result"
    }
   ],
   "source": [
    "df['text']"
   ],
   "metadata": {
    "collapsed": false,
    "pycharm": {
     "name": "#%%\n"
    }
   }
  },
  {
   "cell_type": "code",
   "execution_count": 76,
   "outputs": [],
   "source": [
    "def remove_punctuation(text):\n",
    "    return \"\".join([ch if ch not in string.punctuation else ' ' for ch in text])\n",
    "\n",
    "def remove_numbers(text):\n",
    "    return ''.join([i if not i.isdigit() else ' ' for i in text])\n",
    "\n",
    "import re\n",
    "def remove_multiple_spaces(text):\n",
    "\treturn re.sub(r'\\s+', ' ', text, flags=re.I)"
   ],
   "metadata": {
    "collapsed": false,
    "pycharm": {
     "name": "#%%\n"
    }
   }
  },
  {
   "cell_type": "code",
   "execution_count": 85,
   "outputs": [
    {
     "name": "stdout",
     "output_type": "stream",
     "text": [
      "author                                        Адамс Дуглас.\n",
      "name      Путеводитель по Галактике для путешествующих а...\n",
      "text      [Глава 1., Дом стоял на склоне холма на окpаин...\n",
      "tag                                                       0\n",
      "Name: 0, dtype: object\n",
      "author                                     Чэндлеp Раймонд.\n",
      "name                                          Глубокий сон.\n",
      "text      [1\\nБыла половина октября, около одиннадцати у...\n",
      "tag                                                       1\n",
      "Name: 1, dtype: object\n",
      "author                                      Дж.Р.Р.Толкиен.\n",
      "name                                       ВЛАСТЕЛИН КОЛЕЦ.\n",
      "text      [ПРОЛОГ\\n\\n1., О ХОББИТАХ., Рассказ у нас пойд...\n",
      "tag                                                       2\n",
      "Name: 2, dtype: object\n"
     ]
    }
   ],
   "source": [
    "\n",
    "for i, record in df.iterrows():\n",
    "    print(record)"
   ],
   "metadata": {
    "collapsed": false,
    "pycharm": {
     "name": "#%%\n"
    }
   }
  },
  {
   "cell_type": "code",
   "execution_count": 92,
   "outputs": [
    {
     "data": {
      "text/plain": "0it [00:00, ?it/s]",
      "application/vnd.jupyter.widget-view+json": {
       "version_major": 2,
       "version_minor": 0,
       "model_id": "0a1993ebd41842d1a86087c8af9dc2fc"
      }
     },
     "metadata": {},
     "output_type": "display_data"
    }
   ],
   "source": [
    "texts = {'sentences': [], 'tag':[]}\n",
    "for i, record in tqdm(df.iterrows()):\n",
    "    for sent in record['text']:\n",
    "        texts['sentences'].append(' '.join([remove_multiple_spaces(remove_numbers(remove_punctuation(w.lower()))) for w in word_tokenize(sent) if w not in stpwrds]))\n",
    "        texts['tag'].append(record['tag'])"
   ],
   "metadata": {
    "collapsed": false,
    "pycharm": {
     "name": "#%%\n"
    }
   }
  },
  {
   "cell_type": "code",
   "execution_count": 93,
   "outputs": [],
   "source": [
    "df_res = pd.DataFrame(texts)"
   ],
   "metadata": {
    "collapsed": false,
    "pycharm": {
     "name": "#%%\n"
    }
   }
  },
  {
   "cell_type": "code",
   "execution_count": 94,
   "outputs": [
    {
     "data": {
      "text/plain": "                                               sentences  tag\n0                                                глава      0\n1      дом стоял склоне холма окpаине гоpодка отдельн...    0\n2          окна выходили шиpокую pавнину западной англии    0\n3      с стоpоны посмотpеть дом тpидцать лет это квад...    0\n4      единственный кого дом чем то устpаивал аpтуp д...    0\n...                                                  ...  ...\n36079  а сэм взял путь приречье подъехал круче закат ...    2\n36080  прощальные бледно золотистые лучи озарили торб...    2\n36081  роза встретила подвинула кресло камину усадила...    2\n36082                                он глубоко вздохнул    2\n36083                              –ну вернулся – сказал    2\n\n[36084 rows x 2 columns]",
      "text/html": "<div>\n<style scoped>\n    .dataframe tbody tr th:only-of-type {\n        vertical-align: middle;\n    }\n\n    .dataframe tbody tr th {\n        vertical-align: top;\n    }\n\n    .dataframe thead th {\n        text-align: right;\n    }\n</style>\n<table border=\"1\" class=\"dataframe\">\n  <thead>\n    <tr style=\"text-align: right;\">\n      <th></th>\n      <th>sentences</th>\n      <th>tag</th>\n    </tr>\n  </thead>\n  <tbody>\n    <tr>\n      <th>0</th>\n      <td>глава</td>\n      <td>0</td>\n    </tr>\n    <tr>\n      <th>1</th>\n      <td>дом стоял склоне холма окpаине гоpодка отдельн...</td>\n      <td>0</td>\n    </tr>\n    <tr>\n      <th>2</th>\n      <td>окна выходили шиpокую pавнину западной англии</td>\n      <td>0</td>\n    </tr>\n    <tr>\n      <th>3</th>\n      <td>с стоpоны посмотpеть дом тpидцать лет это квад...</td>\n      <td>0</td>\n    </tr>\n    <tr>\n      <th>4</th>\n      <td>единственный кого дом чем то устpаивал аpтуp д...</td>\n      <td>0</td>\n    </tr>\n    <tr>\n      <th>...</th>\n      <td>...</td>\n      <td>...</td>\n    </tr>\n    <tr>\n      <th>36079</th>\n      <td>а сэм взял путь приречье подъехал круче закат ...</td>\n      <td>2</td>\n    </tr>\n    <tr>\n      <th>36080</th>\n      <td>прощальные бледно золотистые лучи озарили торб...</td>\n      <td>2</td>\n    </tr>\n    <tr>\n      <th>36081</th>\n      <td>роза встретила подвинула кресло камину усадила...</td>\n      <td>2</td>\n    </tr>\n    <tr>\n      <th>36082</th>\n      <td>он глубоко вздохнул</td>\n      <td>2</td>\n    </tr>\n    <tr>\n      <th>36083</th>\n      <td>–ну вернулся – сказал</td>\n      <td>2</td>\n    </tr>\n  </tbody>\n</table>\n<p>36084 rows × 2 columns</p>\n</div>"
     },
     "execution_count": 94,
     "metadata": {},
     "output_type": "execute_result"
    }
   ],
   "source": [
    "df_res"
   ],
   "metadata": {
    "collapsed": false,
    "pycharm": {
     "name": "#%%\n"
    }
   }
  },
  {
   "cell_type": "code",
   "execution_count": 96,
   "outputs": [],
   "source": [
    "df_res.to_csv('dataset_sent.csv')"
   ],
   "metadata": {
    "collapsed": false,
    "pycharm": {
     "name": "#%%\n"
    }
   }
  },
  {
   "cell_type": "code",
   "execution_count": null,
   "outputs": [],
   "source": [],
   "metadata": {
    "collapsed": false,
    "pycharm": {
     "name": "#%%\n"
    }
   }
  }
 ],
 "metadata": {
  "kernelspec": {
   "display_name": "Python 3",
   "language": "python",
   "name": "python3"
  },
  "language_info": {
   "codemirror_mode": {
    "name": "ipython",
    "version": 2
   },
   "file_extension": ".py",
   "mimetype": "text/x-python",
   "name": "python",
   "nbconvert_exporter": "python",
   "pygments_lexer": "ipython2",
   "version": "2.7.6"
  }
 },
 "nbformat": 4,
 "nbformat_minor": 0
}